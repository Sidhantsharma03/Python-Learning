{
 "cells": [
  {
   "cell_type": "code",
   "execution_count": null,
   "id": "f0283acf",
   "metadata": {},
   "outputs": [
    {
     "name": "stdout",
     "output_type": "stream",
     "text": [
      "Enter a number:9\n",
      "0\n",
      "1\n",
      "1\n",
      "2\n",
      "3\n",
      "5\n",
      "8\n",
      "13\n",
      "21\n",
      "34\n",
      "55\n"
     ]
    }
   ],
   "source": [
    "#fibonacci series\n",
    "\n",
    "sum=0\n",
    "n=eval(input(\"Enter a number:\"))\n",
    "f=0\n",
    "s=1\n",
    "print(f)\n",
    "print(s)\n",
    "for i in range(0,n):\n",
    "    sum=f+s\n",
    "    f=s\n",
    "    s=sum\n",
    "    print(sum)"
   ]
  },
  {
   "cell_type": "code",
   "execution_count": 3,
   "id": "42f6489b",
   "metadata": {},
   "outputs": [
    {
     "name": "stdout",
     "output_type": "stream",
     "text": [
      "Enter a name:  nitin\n",
      "Reverse string:  nitin\n",
      "True\n"
     ]
    }
   ],
   "source": [
    "#Palindrome checker\n",
    "\n",
    "x=str(input(\"Enter a name: \"))\n",
    "y=x[::-1]\n",
    "print(\"Enter a name: \",x)\n",
    "print(\"Reverse string: \",y)\n",
    "if (x==y):\n",
    "    print(True)\n",
    "else:\n",
    "    print(False)"
   ]
  },
  {
   "cell_type": "code",
   "execution_count": 4,
   "id": "b3e589e7",
   "metadata": {},
   "outputs": [],
   "source": [
    "import os\n",
    "import shutil\n",
    "\n",
    "path = input(\"enter path : \")\n",
    "files = os.listdir(path)\n",
    "\n",
    "for file in files:\n",
    "    filename,extension= os.path.splitext(file)\n",
    "    extension= extension[1:]\n",
    "    \n",
    "    if os.path.exists(path+'/'+extension):\n",
    "        shutil.move(path+'/'+file,path+'/'+extension+'/'+file)\n",
    "    else:\n",
    "        os.makedirs(path+'/'+extension)\n",
    "        shutil.move(path+'/'+file,path+'/'+extension+'/'+file)"
   ]
  },
  {
   "cell_type": "code",
   "execution_count": null,
   "id": "b66adcf6",
   "metadata": {},
   "outputs": [],
   "source": []
  }
 ],
 "metadata": {
  "kernelspec": {
   "display_name": "Python 3 (ipykernel)",
   "language": "python",
   "name": "python3"
  },
  "language_info": {
   "codemirror_mode": {
    "name": "ipython",
    "version": 3
   },
   "file_extension": ".py",
   "mimetype": "text/x-python",
   "name": "python",
   "nbconvert_exporter": "python",
   "pygments_lexer": "ipython3",
   "version": "3.11.4"
  }
 },
 "nbformat": 4,
 "nbformat_minor": 5
}
